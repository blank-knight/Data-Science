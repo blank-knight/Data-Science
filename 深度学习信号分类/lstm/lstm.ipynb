{
 "cells": [
  {
   "cell_type": "code",
   "execution_count": 1,
   "metadata": {},
   "outputs": [],
   "source": [
    "import numpy as np\n",
    "import pandas as pd\n",
    "from sklearn.decomposition import PCA\n",
    "import matplotlib.pyplot as plt\n",
    "from sklearn.preprocessing import MinMaxScaler\n",
    "from pandas import DataFrame\n",
    "from sklearn.model_selection import train_test_split\n",
    "import keras\n",
    "from keras.layers import Dense,Conv1D, MaxPooling1D, LSTM, Bidirectional,Dropout\n",
    "from keras.utils.np_utils import to_categorical\n",
    "# from imblearn.under_sampling import RandomUnderSampler\n",
    "from sklearn.metrics import classification_report"
   ]
  },
  {
   "cell_type": "code",
   "execution_count": 2,
   "metadata": {},
   "outputs": [],
   "source": [
    "plt.rcParams['font.sans-serif'] = ['SimHei']\n",
    "plt.rcParams['axes.unicode_minus'] = False"
   ]
  },
  {
   "cell_type": "code",
   "execution_count": 3,
   "metadata": {},
   "outputs": [],
   "source": [
    "dataset = pd.read_csv('./data1.csv')\n",
    "X = dataset.iloc[:, -500:]\n",
    "y = dataset.iloc[:, 0].values"
   ]
  },
  {
   "cell_type": "code",
   "execution_count": 4,
   "metadata": {},
   "outputs": [],
   "source": [
    "scaler = MinMaxScaler(feature_range=(0, 1))\n",
    "scaled = scaler.fit_transform(X)"
   ]
  },
  {
   "cell_type": "code",
   "execution_count": 5,
   "metadata": {},
   "outputs": [],
   "source": [
    "XTrain, XValTest, yTrain, yValTest = train_test_split(scaled, y, test_size=0.4)\n",
    "XVal, XTest, yVal, yTest = train_test_split(XValTest, yValTest, test_size=0.5)"
   ]
  },
  {
   "cell_type": "code",
   "execution_count": 6,
   "metadata": {},
   "outputs": [],
   "source": [
    "yTrain_one_hot = to_categorical(yTrain, 2)\n",
    "yVal_one_hot = to_categorical(yVal, 2)"
   ]
  },
  {
   "cell_type": "code",
   "execution_count": 7,
   "metadata": {},
   "outputs": [],
   "source": [
    "XTrain = np.array(XTrain)\n",
    "XVal = np.array(XVal)"
   ]
  },
  {
   "cell_type": "code",
   "execution_count": 8,
   "metadata": {},
   "outputs": [],
   "source": [
    "XTrain = XTrain.reshape((XTrain.shape[0], 1, XTrain.shape[1]))\n",
    "XVal = XVal.reshape((XVal.shape[0], 1, XVal.shape[1]))"
   ]
  },
  {
   "cell_type": "code",
   "execution_count": 9,
   "metadata": {},
   "outputs": [
    {
     "name": "stdout",
     "output_type": "stream",
     "text": [
      "Model: \"sequential\"\n",
      "_________________________________________________________________\n",
      " Layer (type)                Output Shape              Param #   \n",
      "=================================================================\n",
      " lstm (LSTM)                 (3600, 1, 20)             41680     \n",
      "                                                                 \n",
      " lstm_1 (LSTM)               (3600, 50)                14200     \n",
      "                                                                 \n",
      " dense (Dense)               (3600, 10)                510       \n",
      "                                                                 \n",
      " dropout (Dropout)           (3600, 10)                0         \n",
      "                                                                 \n",
      " dense_1 (Dense)             (3600, 2)                 22        \n",
      "                                                                 \n",
      "=================================================================\n",
      "Total params: 56,412\n",
      "Trainable params: 56,412\n",
      "Non-trainable params: 0\n",
      "_________________________________________________________________\n",
      "None\n"
     ]
    }
   ],
   "source": [
    "model = keras.Sequential()\n",
    "model.add(LSTM(20, activation=\"relu\", return_sequences=True)) #输出维度是20\n",
    "model.add(LSTM(50, activation=\"relu\", return_sequences=False))\n",
    "model.add(Dense(10, activation=\"relu\", kernel_initializer='normal'))\n",
    "model.add(Dropout(0.2))\n",
    "model.add(Dense(2, activation='softmax'))\n",
    "\n",
    "model.build(input_shape=(3600,1,500))\n",
    "print(model.summary())"
   ]
  },
  {
   "cell_type": "code",
   "execution_count": 10,
   "metadata": {},
   "outputs": [],
   "source": [
    "model.compile(loss='binary_crossentropy', optimizer='adam', metrics=['accuracy'])"
   ]
  },
  {
   "cell_type": "code",
   "execution_count": 11,
   "metadata": {},
   "outputs": [
    {
     "name": "stdout",
     "output_type": "stream",
     "text": [
      "Epoch 1/60\n",
      "4/4 [==============================] - 2s 84ms/step - loss: 0.6931 - accuracy: 0.5058 - val_loss: 0.6930 - val_accuracy: 0.5208\n",
      "Epoch 2/60\n",
      "4/4 [==============================] - 0s 18ms/step - loss: 0.6930 - accuracy: 0.5064 - val_loss: 0.6928 - val_accuracy: 0.5208\n",
      "Epoch 3/60\n",
      "4/4 [==============================] - 0s 31ms/step - loss: 0.6928 - accuracy: 0.5064 - val_loss: 0.6926 - val_accuracy: 0.5208\n",
      "Epoch 4/60\n",
      "4/4 [==============================] - 0s 27ms/step - loss: 0.6925 - accuracy: 0.5064 - val_loss: 0.6921 - val_accuracy: 0.5208\n",
      "Epoch 5/60\n",
      "4/4 [==============================] - 0s 26ms/step - loss: 0.6920 - accuracy: 0.5106 - val_loss: 0.6916 - val_accuracy: 0.5317\n",
      "Epoch 6/60\n",
      "4/4 [==============================] - 0s 26ms/step - loss: 0.6912 - accuracy: 0.5242 - val_loss: 0.6906 - val_accuracy: 0.5433\n",
      "Epoch 7/60\n",
      "4/4 [==============================] - 0s 30ms/step - loss: 0.6902 - accuracy: 0.6022 - val_loss: 0.6893 - val_accuracy: 0.6425\n",
      "Epoch 8/60\n",
      "4/4 [==============================] - 0s 28ms/step - loss: 0.6883 - accuracy: 0.6453 - val_loss: 0.6874 - val_accuracy: 0.6808\n",
      "Epoch 9/60\n",
      "4/4 [==============================] - 0s 29ms/step - loss: 0.6859 - accuracy: 0.7136 - val_loss: 0.6846 - val_accuracy: 0.7250\n",
      "Epoch 10/60\n",
      "4/4 [==============================] - 0s 35ms/step - loss: 0.6824 - accuracy: 0.7183 - val_loss: 0.6801 - val_accuracy: 0.7525\n",
      "Epoch 11/60\n",
      "4/4 [==============================] - 0s 30ms/step - loss: 0.6762 - accuracy: 0.7272 - val_loss: 0.6728 - val_accuracy: 0.7517\n",
      "Epoch 12/60\n",
      "4/4 [==============================] - 0s 32ms/step - loss: 0.6654 - accuracy: 0.7433 - val_loss: 0.6611 - val_accuracy: 0.7592\n",
      "Epoch 13/60\n",
      "4/4 [==============================] - 0s 28ms/step - loss: 0.6516 - accuracy: 0.7347 - val_loss: 0.6443 - val_accuracy: 0.7450\n",
      "Epoch 14/60\n",
      "4/4 [==============================] - 0s 37ms/step - loss: 0.6299 - accuracy: 0.7319 - val_loss: 0.6210 - val_accuracy: 0.7633\n",
      "Epoch 15/60\n",
      "4/4 [==============================] - 0s 35ms/step - loss: 0.6087 - accuracy: 0.7300 - val_loss: 0.5967 - val_accuracy: 0.7575\n",
      "Epoch 16/60\n",
      "4/4 [==============================] - 0s 39ms/step - loss: 0.5818 - accuracy: 0.7447 - val_loss: 0.5702 - val_accuracy: 0.7675\n",
      "Epoch 17/60\n",
      "4/4 [==============================] - 0s 29ms/step - loss: 0.5550 - accuracy: 0.7589 - val_loss: 0.5484 - val_accuracy: 0.7683\n",
      "Epoch 18/60\n",
      "4/4 [==============================] - 0s 34ms/step - loss: 0.5286 - accuracy: 0.7750 - val_loss: 0.5282 - val_accuracy: 0.7792\n",
      "Epoch 19/60\n",
      "4/4 [==============================] - 0s 29ms/step - loss: 0.5064 - accuracy: 0.7836 - val_loss: 0.5151 - val_accuracy: 0.7833\n",
      "Epoch 20/60\n",
      "4/4 [==============================] - 0s 26ms/step - loss: 0.4936 - accuracy: 0.7900 - val_loss: 0.5050 - val_accuracy: 0.7900\n",
      "Epoch 21/60\n",
      "4/4 [==============================] - 0s 28ms/step - loss: 0.4801 - accuracy: 0.7989 - val_loss: 0.5000 - val_accuracy: 0.7883\n",
      "Epoch 22/60\n",
      "4/4 [==============================] - 0s 35ms/step - loss: 0.4687 - accuracy: 0.8039 - val_loss: 0.4937 - val_accuracy: 0.7933\n",
      "Epoch 23/60\n",
      "4/4 [==============================] - 0s 26ms/step - loss: 0.4566 - accuracy: 0.8125 - val_loss: 0.4888 - val_accuracy: 0.7967\n",
      "Epoch 24/60\n",
      "4/4 [==============================] - 0s 24ms/step - loss: 0.4587 - accuracy: 0.8111 - val_loss: 0.4856 - val_accuracy: 0.7917\n",
      "Epoch 25/60\n",
      "4/4 [==============================] - 0s 27ms/step - loss: 0.4467 - accuracy: 0.8133 - val_loss: 0.4826 - val_accuracy: 0.7908\n",
      "Epoch 26/60\n",
      "4/4 [==============================] - 0s 34ms/step - loss: 0.4414 - accuracy: 0.8183 - val_loss: 0.4867 - val_accuracy: 0.7908\n",
      "Epoch 27/60\n",
      "4/4 [==============================] - 0s 34ms/step - loss: 0.4476 - accuracy: 0.8144 - val_loss: 0.4824 - val_accuracy: 0.7892\n",
      "Epoch 28/60\n",
      "4/4 [==============================] - 0s 35ms/step - loss: 0.4373 - accuracy: 0.8203 - val_loss: 0.4785 - val_accuracy: 0.7892\n",
      "Epoch 29/60\n",
      "4/4 [==============================] - 0s 34ms/step - loss: 0.4342 - accuracy: 0.8256 - val_loss: 0.4777 - val_accuracy: 0.7883\n",
      "Epoch 30/60\n",
      "4/4 [==============================] - 0s 25ms/step - loss: 0.4372 - accuracy: 0.8200 - val_loss: 0.4801 - val_accuracy: 0.7867\n",
      "Epoch 31/60\n",
      "4/4 [==============================] - 0s 25ms/step - loss: 0.4292 - accuracy: 0.8250 - val_loss: 0.4785 - val_accuracy: 0.7875\n",
      "Epoch 32/60\n",
      "4/4 [==============================] - 0s 28ms/step - loss: 0.4303 - accuracy: 0.8214 - val_loss: 0.4818 - val_accuracy: 0.7858\n",
      "Epoch 33/60\n",
      "4/4 [==============================] - 0s 28ms/step - loss: 0.4176 - accuracy: 0.8239 - val_loss: 0.4858 - val_accuracy: 0.7833\n",
      "Epoch 34/60\n",
      "4/4 [==============================] - 0s 25ms/step - loss: 0.4229 - accuracy: 0.8261 - val_loss: 0.4752 - val_accuracy: 0.7892\n",
      "Epoch 35/60\n",
      "4/4 [==============================] - 0s 23ms/step - loss: 0.4142 - accuracy: 0.8306 - val_loss: 0.4768 - val_accuracy: 0.7883\n",
      "Epoch 36/60\n",
      "4/4 [==============================] - 0s 26ms/step - loss: 0.4193 - accuracy: 0.8289 - val_loss: 0.4757 - val_accuracy: 0.7883\n",
      "Epoch 37/60\n",
      "4/4 [==============================] - 0s 34ms/step - loss: 0.4129 - accuracy: 0.8331 - val_loss: 0.4747 - val_accuracy: 0.7900\n",
      "Epoch 38/60\n",
      "4/4 [==============================] - 0s 28ms/step - loss: 0.4081 - accuracy: 0.8322 - val_loss: 0.4846 - val_accuracy: 0.7808\n",
      "Epoch 39/60\n",
      "4/4 [==============================] - 0s 34ms/step - loss: 0.4154 - accuracy: 0.8314 - val_loss: 0.4721 - val_accuracy: 0.7917\n",
      "Epoch 40/60\n",
      "4/4 [==============================] - 0s 26ms/step - loss: 0.4064 - accuracy: 0.8350 - val_loss: 0.4752 - val_accuracy: 0.7875\n",
      "Epoch 41/60\n",
      "4/4 [==============================] - 0s 32ms/step - loss: 0.4057 - accuracy: 0.8344 - val_loss: 0.4833 - val_accuracy: 0.7783\n",
      "Epoch 42/60\n",
      "4/4 [==============================] - 0s 29ms/step - loss: 0.4115 - accuracy: 0.8294 - val_loss: 0.4718 - val_accuracy: 0.7900\n",
      "Epoch 43/60\n",
      "4/4 [==============================] - 0s 32ms/step - loss: 0.4021 - accuracy: 0.8333 - val_loss: 0.4765 - val_accuracy: 0.7850\n",
      "Epoch 44/60\n",
      "4/4 [==============================] - 0s 31ms/step - loss: 0.4060 - accuracy: 0.8311 - val_loss: 0.4934 - val_accuracy: 0.7717\n",
      "Epoch 45/60\n",
      "4/4 [==============================] - 0s 31ms/step - loss: 0.4020 - accuracy: 0.8344 - val_loss: 0.4898 - val_accuracy: 0.7850\n",
      "Epoch 46/60\n",
      "4/4 [==============================] - 0s 28ms/step - loss: 0.4114 - accuracy: 0.8353 - val_loss: 0.4897 - val_accuracy: 0.7767\n",
      "Epoch 47/60\n",
      "4/4 [==============================] - 0s 26ms/step - loss: 0.4044 - accuracy: 0.8336 - val_loss: 0.4837 - val_accuracy: 0.7850\n",
      "Epoch 48/60\n",
      "4/4 [==============================] - 0s 32ms/step - loss: 0.4000 - accuracy: 0.8383 - val_loss: 0.4765 - val_accuracy: 0.7867\n",
      "Epoch 49/60\n",
      "4/4 [==============================] - 0s 27ms/step - loss: 0.4017 - accuracy: 0.8358 - val_loss: 0.4715 - val_accuracy: 0.7892\n",
      "Epoch 50/60\n",
      "4/4 [==============================] - 0s 36ms/step - loss: 0.3982 - accuracy: 0.8431 - val_loss: 0.4728 - val_accuracy: 0.7875\n",
      "Epoch 51/60\n",
      "4/4 [==============================] - 0s 31ms/step - loss: 0.3922 - accuracy: 0.8397 - val_loss: 0.4739 - val_accuracy: 0.7958\n",
      "Epoch 52/60\n",
      "4/4 [==============================] - 0s 33ms/step - loss: 0.3934 - accuracy: 0.8442 - val_loss: 0.4735 - val_accuracy: 0.7858\n",
      "Epoch 53/60\n",
      "4/4 [==============================] - 0s 31ms/step - loss: 0.3851 - accuracy: 0.8492 - val_loss: 0.4745 - val_accuracy: 0.7925\n",
      "Epoch 54/60\n",
      "4/4 [==============================] - 0s 38ms/step - loss: 0.3847 - accuracy: 0.8439 - val_loss: 0.4750 - val_accuracy: 0.7892\n",
      "Epoch 55/60\n",
      "4/4 [==============================] - 0s 38ms/step - loss: 0.3845 - accuracy: 0.8433 - val_loss: 0.4751 - val_accuracy: 0.7933\n",
      "Epoch 56/60\n",
      "4/4 [==============================] - 0s 37ms/step - loss: 0.3862 - accuracy: 0.8458 - val_loss: 0.4759 - val_accuracy: 0.7883\n",
      "Epoch 57/60\n",
      "4/4 [==============================] - 0s 33ms/step - loss: 0.3867 - accuracy: 0.8450 - val_loss: 0.4799 - val_accuracy: 0.7850\n",
      "Epoch 58/60\n",
      "4/4 [==============================] - 0s 25ms/step - loss: 0.3819 - accuracy: 0.8461 - val_loss: 0.4774 - val_accuracy: 0.7908\n",
      "Epoch 59/60\n",
      "4/4 [==============================] - 0s 36ms/step - loss: 0.3784 - accuracy: 0.8469 - val_loss: 0.4757 - val_accuracy: 0.7925\n",
      "Epoch 60/60\n",
      "4/4 [==============================] - 0s 29ms/step - loss: 0.3757 - accuracy: 0.8489 - val_loss: 0.4837 - val_accuracy: 0.7825\n"
     ]
    }
   ],
   "source": [
    "history = model.fit(XTrain, yTrain_one_hot, epochs=60, batch_size=1024, verbose=1,\n",
    "                    validation_data=(XVal, yVal_one_hot))"
   ]
  },
  {
   "cell_type": "code",
   "execution_count": 12,
   "metadata": {},
   "outputs": [],
   "source": [
    "model.save('LSTM_model.h5')"
   ]
  },
  {
   "cell_type": "code",
   "execution_count": 13,
   "metadata": {
    "scrolled": true
   },
   "outputs": [
    {
     "data": {
      "image/png": "[encoded data removed]",
      "text/plain": [
       "<Figure size 864x576 with 1 Axes>"
      ]
     },
     "metadata": {
      "needs_background": "light"
     },
     "output_type": "display_data"
    },
    {
     "name": "stdout",
     "output_type": "stream",
     "text": [
      "38/38 [==============================] - 1s 2ms/step\n",
      "38/38 [==============================] - 0s 3ms/step - loss: 0.4837 - accuracy: 0.7825\n",
      "预测准确率: 0.7825000286102295\n",
      "              precision    recall  f1-score   support\n",
      "\n",
      "        NLOS       0.75      0.88      0.81       625\n",
      "         LOS       0.84      0.68      0.75       575\n",
      "\n",
      "    accuracy                           0.78      1200\n",
      "   macro avg       0.79      0.78      0.78      1200\n",
      "weighted avg       0.79      0.78      0.78      1200\n",
      "\n"
     ]
    }
   ],
   "source": [
    "# 绘制训练集和测试集的loss值对比图\n",
    "# 创建一个大小为（12，8）的画布\n",
    "plt.figure(figsize=(12, 8))\n",
    "\n",
    "# 传入训练集的loss和验证集的loss\n",
    "plt.plot(history.history['loss'], label='train')\n",
    "plt.plot(history.history['val_loss'], label='val')\n",
    "\n",
    "# 设置图的参数，设置图的名字\n",
    "plt.title(\"LSTM神经网络loss值\", fontsize=15)\n",
    "\n",
    "# 设置xy轴的刻度值大小\n",
    "plt.xticks(fontsize=15)\n",
    "plt.yticks(fontsize=15)\n",
    "\n",
    "# 设置xy轴的标签\n",
    "plt.ylabel('loss值', fontsize=15)\n",
    "plt.xlabel('训练轮次', fontsize=15)\n",
    "\n",
    "# 设置图例文字大小\n",
    "plt.legend(fontsize=15)\n",
    "plt.show()\n",
    "\n",
    "y_predetion = np.argmax(model.predict(XVal), axis=-1)\n",
    "y_pred = []\n",
    "for i in range(len(y_predetion)):\n",
    "    y_pred.append(y_predetion[i])\n",
    "\n",
    "y_Val = []\n",
    "for i in range(len(yVal)):\n",
    "    y_Val.append(yVal[i])\n",
    "scores = model.evaluate(XVal, yVal_one_hot)\n",
    "print(\"预测准确率:\", scores[1])\n",
    "\n",
    "\n",
    "report = classification_report(y_Val, y_pred, labels=[0, 1],\n",
    "                               target_names=['NLOS', 'LOS'])\n",
    "print(report)"
   ]
  },
  {
   "cell_type": "code",
   "execution_count": 14,
   "metadata": {},
   "outputs": [],
   "source": [
    "from keras.models import load_model"
   ]
  },
  {
   "cell_type": "code",
   "execution_count": 15,
   "metadata": {},
   "outputs": [
    {
     "name": "stdout",
     "output_type": "stream",
     "text": [
      "38/38 [==============================] - 1s 3ms/step\n",
      "38/38 [==============================] - 1s 4ms/step - loss: 0.4425 - accuracy: 0.8192\n",
      "预测准确率: 0.8191666603088379\n",
      "              precision    recall  f1-score   support\n",
      "\n",
      "        NLOS       0.76      0.91      0.83       584\n",
      "         LOS       0.90      0.73      0.81       616\n",
      "\n",
      "    accuracy                           0.82      1200\n",
      "   macro avg       0.83      0.82      0.82      1200\n",
      "weighted avg       0.83      0.82      0.82      1200\n",
      "\n"
     ]
    }
   ],
   "source": [
    "yTest_one_hot = to_categorical(yTest, 2)\n",
    "XTest = np.array(XTest)\n",
    "XTest = XTest.reshape((XTest.shape[0], 1, XTest.shape[1]))\n",
    "model = load_model(\"LSTM_model.h5\")\n",
    "\n",
    "y_predetion = np.argmax(model.predict(XTest), axis=-1) #取这一行中最大值的下标\n",
    "y_pred = []\n",
    "for i in range(len(y_predetion)):\n",
    "    y_pred.append(y_predetion[i])\n",
    "\n",
    "y_Test = []\n",
    "for i in range(len(yTest)):\n",
    "    y_Test.append(yTest[i])\n",
    "scores = model.evaluate(XTest, yTest_one_hot)\n",
    "print(\"预测准确率:\", scores[1])\n",
    "\n",
    "report = classification_report(y_Test, y_pred, labels=[0, 1],\n",
    "                               target_names=['NLOS', 'LOS'])\n",
    "print(report)\n"
   ]
  },
  {
   "cell_type": "code",
   "execution_count": null,
   "metadata": {},
   "outputs": [],
   "source": []
  },
  {
   "cell_type": "code",
   "execution_count": null,
   "metadata": {},
   "outputs": [],
   "source": []
  }
 ],
 "metadata": {
  "kernelspec": {
   "display_name": "Python 3 (ipykernel)",
   "language": "python",
   "name": "python3"
  },
  "language_info": {
   "codemirror_mode": {
    "name": "ipython",
    "version": 3
   },
   "file_extension": ".py",
   "mimetype": "text/x-python",
   "name": "python",
   "nbconvert_exporter": "python",
   "pygments_lexer": "ipython3",
   "version": "3.7.16"
  }
 },
 "nbformat": 4,
 "nbformat_minor": 4
}
